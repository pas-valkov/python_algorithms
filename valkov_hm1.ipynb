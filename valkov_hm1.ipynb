{
 "cells": [
  {
   "cell_type": "markdown",
   "metadata": {},
   "source": [
    "**Общая информация**\n",
    "\n",
    "**Срок сдачи:** 20 марта 2019, 06:00 <br\\>\n",
    "**Штраф за опоздание:** -1 балл после 06:00 20 марта, -2 балла после 06:00 27 марта, -3 балла после 06:00 3 апреля\n",
    "-4 балла после 06:00 10 апреля\n",
    "\n",
    "При отправлении ДЗ указывайте фамилию в названии файла\n",
    "Присылать ДЗ необходимо в виде ссылки на свой github репозиторий в slack @alkhamush\n",
    "\n",
    "Необходимо в slack скинуть ссылку в личный чат @alkhamush\n",
    "Пример ссылки:\n",
    "https://github.com/stroykova/spheremailru/stroykova_hw1.ipynb \n",
    "\n",
    "\n",
    "Используйте данный Ipython Notebook при оформлении домашнего задания."
   ]
  },
  {
   "cell_type": "markdown",
   "metadata": {},
   "source": [
    "##### Задание 1 (2 баллов)\n",
    "Реализовать KNN в классе MyKNeighborsClassifier (обязательное условие: точность не ниже sklearn реализации)\n",
    "Разберитесь самостоятельно, какая мера расстояния используется в KNeighborsClassifier дефолтно и реализуйте свой алгоритм именно с этой мерой. Самостоятельно разберитесь, как считается score из KNeighborsClassifier и реализуйте аналог в своём классе. Score не должен уступать значению KNN из sklearn\n",
    "\n",
    "###### Задание 2 (2 балла)\n",
    "Добиться скорости работы на fit,  predict и predict_proba сравнимой со sklearn для iris и mnist\n",
    "Для этого используем numpy\n",
    "\n",
    "###### Задание 3 (2 балла)\n",
    "Для iris найдите такой параметр n_neighbors, при котором выдаётся наилучший score. Нарисуйте график зависимости score от n_neighbors\n",
    "\n",
    "###### Задание 4 (3 балла)\n",
    "Добавить algorithm='kd_tree' в реализацию KNN (использовать KDTree из sklearn.neighbors). Добиться скорости работы на fit,  predict и predict_proba сравнимой со sklearn для iris и mnist\n",
    "Для этого используем numpy. Score не должен уступать значению KNN из sklearn\n",
    "\n",
    "###### Задание 5 (1 балла)\n",
    "Описать для чего нужны следующие библиотеки/классы/функции (список будет ниже)\n",
    "\n",
    "**Штрафные баллы:**\n",
    "\n",
    "1. Невыполнение PEP8 -0.5 баллов\n",
    "2. Отсутствие фамилии в имени скрипта (скрипт должен называться по аналогии со stroykova_hw1.ipynb) -0.5 баллов\n",
    "3. Все строчки должны быть выполнены. Нужно, чтобы output команды можно было увидеть уже в git'е. В противном случае -0.5 баллов\n",
    "4. При оформлении ДЗ нужно пользоваться данным файлом в качестве шаблона. Не нужно удалять и видоизменять структуру кода и текст. В противном случае -0.5 баллов\n"
   ]
  },
  {
   "cell_type": "code",
   "execution_count": 1,
   "metadata": {
    "collapsed": true
   },
   "outputs": [],
   "source": [
    "import numpy as np\n",
    "import matplotlib.pyplot as plt\n",
    "\n",
    "import seaborn as sns\n",
    "from sklearn import datasets\n",
    "from sklearn.base import ClassifierMixin\n",
    "from sklearn.datasets import fetch_mldata\n",
    "from sklearn.neighbors.base import NeighborsBase, KNeighborsMixin, SupervisedIntegerMixin \n",
    "from sklearn.model_selection import train_test_split\n",
    "from sklearn.neighbors import KNeighborsClassifier\n",
    "%load_ext pycodestyle_magic"
   ]
  },
  {
   "cell_type": "code",
   "execution_count": 2,
   "metadata": {},
   "outputs": [],
   "source": [
    "# %%pycodestyle\n",
    "from collections import Counter\n",
    "from scipy import stats\n",
    "import time\n",
    "from sklearn import metrics\n",
    "from sklearn.neighbors import KDTree\n",
    "\n",
    "\n",
    "class MyKNeighborsClassifier(NeighborsBase, KNeighborsMixin,\n",
    "                             SupervisedIntegerMixin, ClassifierMixin):\n",
    "\n",
    "    def __init__(self, n_neighbors, algorithm='brute'):\n",
    "        self.n_neighbors = n_neighbors\n",
    "        self.algorithm = algorithm\n",
    "\n",
    "    def fit(self, X, y):\n",
    "        self.X = X\n",
    "        self.y = y\n",
    "        if self.algorithm == 'kd_tree':\n",
    "            self.kdt = KDTree(self.X, leaf_size=50, metric='minkowski', p=2)\n",
    "        return self\n",
    "\n",
    "    def predict(self, X):\n",
    "        x = self._sample_predict(X)\n",
    "        return stats.mode(x, axis=1)[0].squeeze(axis=1)\n",
    "\n",
    "    def _sample_predict(self, X):\n",
    "        if self.algorithm == 'brute':\n",
    "            d = metrics.pairwise_distances(X, self.X)\n",
    "            xx = self.y[np.argpartition(d, self.n_neighbors)\n",
    "                        [:, :self.n_neighbors]]\n",
    "            return xx\n",
    "        if self.algorithm == 'kd_tree':\n",
    "            return self.y[self.kdt.query(X,\n",
    "                                         k=self.n_neighbors,\n",
    "                                         return_distance=False)]\n",
    "\n",
    "    def predict_proba(self, X):\n",
    "        xx = self._sample_predict(X)\n",
    "        self.all_classes = sorted(set(self.y))\n",
    "        return np.array(list(map(self._sample_proba, xx)))\n",
    "\n",
    "    def _sample_proba(self, neighbours):\n",
    "        cnt = Counter(neighbours)\n",
    "        return np.array([cnt.get(i, 0) / self.n_neighbors\n",
    "                         for i in self.all_classes])\n",
    "\n",
    "    def score(self, X, y):\n",
    "        return 1 - np.count_nonzero(self.predict(X) - y) / len(y)"
   ]
  },
  {
   "cell_type": "markdown",
   "metadata": {},
   "source": [
    "**IRIS**"
   ]
  },
  {
   "cell_type": "code",
   "execution_count": 3,
   "metadata": {
    "collapsed": true
   },
   "outputs": [],
   "source": [
    "iris = datasets.load_iris()"
   ]
  },
  {
   "cell_type": "code",
   "execution_count": 4,
   "metadata": {
    "collapsed": true
   },
   "outputs": [],
   "source": [
    "X_train, X_test, y_train, y_test = train_test_split(iris.data,\n",
    "                                                    iris.target,\n",
    "                                                    test_size=0.1,\n",
    "                                                    stratify=iris.target)"
   ]
  },
  {
   "cell_type": "code",
   "execution_count": 5,
   "metadata": {},
   "outputs": [],
   "source": [
    "clf = KNeighborsClassifier(n_neighbors=2, algorithm='brute')\n",
    "my_clf = MyKNeighborsClassifier(n_neighbors=2, algorithm='brute')"
   ]
  },
  {
   "cell_type": "code",
   "execution_count": 6,
   "metadata": {},
   "outputs": [
    {
     "name": "stdout",
     "output_type": "stream",
     "text": [
      "Wall time: 2 ms\n"
     ]
    },
    {
     "data": {
      "text/plain": [
       "KNeighborsClassifier(algorithm='brute', leaf_size=30, metric='minkowski',\n",
       "           metric_params=None, n_jobs=None, n_neighbors=2, p=2,\n",
       "           weights='uniform')"
      ]
     },
     "execution_count": 6,
     "metadata": {},
     "output_type": "execute_result"
    }
   ],
   "source": [
    "%time clf.fit(X_train, y_train)"
   ]
  },
  {
   "cell_type": "code",
   "execution_count": 7,
   "metadata": {},
   "outputs": [
    {
     "name": "stdout",
     "output_type": "stream",
     "text": [
      "Wall time: 0 ns\n"
     ]
    },
    {
     "data": {
      "text/plain": [
       "MyKNeighborsClassifier(algorithm='brute', n_neighbors=2)"
      ]
     },
     "execution_count": 7,
     "metadata": {},
     "output_type": "execute_result"
    }
   ],
   "source": [
    "%time my_clf.fit(X_train, y_train)"
   ]
  },
  {
   "cell_type": "code",
   "execution_count": 8,
   "metadata": {},
   "outputs": [
    {
     "name": "stdout",
     "output_type": "stream",
     "text": [
      "Wall time: 7 ms\n"
     ]
    },
    {
     "data": {
      "text/plain": [
       "array([2, 1, 1, 0, 2, 1, 0, 2, 0, 0, 2, 1, 1, 2, 0])"
      ]
     },
     "execution_count": 8,
     "metadata": {},
     "output_type": "execute_result"
    }
   ],
   "source": [
    "%time clf.predict(X_test)"
   ]
  },
  {
   "cell_type": "code",
   "execution_count": 9,
   "metadata": {},
   "outputs": [
    {
     "name": "stdout",
     "output_type": "stream",
     "text": [
      "Wall time: 2 ms\n"
     ]
    },
    {
     "data": {
      "text/plain": [
       "array([2, 1, 1, 0, 2, 1, 0, 2, 0, 0, 2, 1, 1, 2, 0])"
      ]
     },
     "execution_count": 9,
     "metadata": {},
     "output_type": "execute_result"
    }
   ],
   "source": [
    "%time my_clf.predict(X_test)"
   ]
  },
  {
   "cell_type": "code",
   "execution_count": 10,
   "metadata": {},
   "outputs": [
    {
     "name": "stdout",
     "output_type": "stream",
     "text": [
      "Wall time: 1 ms\n"
     ]
    },
    {
     "data": {
      "text/plain": [
       "array([[0., 0., 1.],\n",
       "       [0., 1., 0.],\n",
       "       [0., 1., 0.],\n",
       "       [1., 0., 0.],\n",
       "       [0., 0., 1.],\n",
       "       [0., 1., 0.],\n",
       "       [1., 0., 0.],\n",
       "       [0., 0., 1.],\n",
       "       [1., 0., 0.],\n",
       "       [1., 0., 0.],\n",
       "       [0., 0., 1.],\n",
       "       [0., 1., 0.],\n",
       "       [0., 1., 0.],\n",
       "       [0., 0., 1.],\n",
       "       [1., 0., 0.]])"
      ]
     },
     "execution_count": 10,
     "metadata": {},
     "output_type": "execute_result"
    }
   ],
   "source": [
    "%time clf.predict_proba(X_test)"
   ]
  },
  {
   "cell_type": "code",
   "execution_count": 11,
   "metadata": {},
   "outputs": [
    {
     "name": "stdout",
     "output_type": "stream",
     "text": [
      "Wall time: 2 ms\n"
     ]
    },
    {
     "data": {
      "text/plain": [
       "array([[0., 0., 1.],\n",
       "       [0., 1., 0.],\n",
       "       [0., 1., 0.],\n",
       "       [1., 0., 0.],\n",
       "       [0., 0., 1.],\n",
       "       [0., 1., 0.],\n",
       "       [1., 0., 0.],\n",
       "       [0., 0., 1.],\n",
       "       [1., 0., 0.],\n",
       "       [1., 0., 0.],\n",
       "       [0., 0., 1.],\n",
       "       [0., 1., 0.],\n",
       "       [0., 1., 0.],\n",
       "       [0., 0., 1.],\n",
       "       [1., 0., 0.]])"
      ]
     },
     "execution_count": 11,
     "metadata": {},
     "output_type": "execute_result"
    }
   ],
   "source": [
    "%time my_clf.predict_proba(X_test)"
   ]
  },
  {
   "cell_type": "code",
   "execution_count": 12,
   "metadata": {},
   "outputs": [
    {
     "data": {
      "text/plain": [
       "1.0"
      ]
     },
     "execution_count": 12,
     "metadata": {},
     "output_type": "execute_result"
    }
   ],
   "source": [
    "clf.score(X_test, y_test)"
   ]
  },
  {
   "cell_type": "code",
   "execution_count": 13,
   "metadata": {},
   "outputs": [
    {
     "data": {
      "text/plain": [
       "1.0"
      ]
     },
     "execution_count": 13,
     "metadata": {},
     "output_type": "execute_result"
    }
   ],
   "source": [
    "my_clf.score(X_test, y_test)"
   ]
  },
  {
   "cell_type": "markdown",
   "metadata": {},
   "source": [
    "Задание 3"
   ]
  },
  {
   "cell_type": "code",
   "execution_count": 14,
   "metadata": {},
   "outputs": [
    {
     "data": {
      "text/plain": [
       "<matplotlib.legend.Legend at 0x2218dcbd68>"
      ]
     },
     "execution_count": 14,
     "metadata": {},
     "output_type": "execute_result"
    },
    {
     "data": {
      "image/png": "[encoded data removed]",
      "text/plain": [
       "<Figure size 432x288 with 1 Axes>"
      ]
     },
     "metadata": {
      "needs_background": "light"
     },
     "output_type": "display_data"
    }
   ],
   "source": [
    "# %%pycodestyle\n",
    "X_train, X_test, y_train, y_test = train_test_split(iris.data,\n",
    "                                                    iris.target,\n",
    "                                                    test_size=0.1,\n",
    "                                                    stratify=iris.target)\n",
    "N = len(y_train)\n",
    "a_score = [0]*N\n",
    "for i in range(1, N):\n",
    "    my_clf = MyKNeighborsClassifier(n_neighbors=i, algorithm='brute')\n",
    "    my_clf.fit(X_train, y_train)\n",
    "    my_clf.predict(X_test)\n",
    "    a_score[i-1] = my_clf.score(X_test, y_test)\n",
    "\n",
    "plt.plot(range(1, N+1), a_score[:], label='score')\n",
    "plt.legend()"
   ]
  },
  {
   "cell_type": "markdown",
   "metadata": {},
   "source": [
    "**MNIST**"
   ]
  },
  {
   "cell_type": "code",
   "execution_count": 15,
   "metadata": {
    "collapsed": true
   },
   "outputs": [],
   "source": [
    "# mnist = fetch_mldata('MNIST original')\n",
    "from mlxtend.data import loadlocal_mnist\n",
    "\n",
    "\n",
    "X, y = loadlocal_mnist(\n",
    "    images_path='C:\\\\Users\\\\pas-valkov\\\\texno\\\\algo\\\\train-images.idx3-ubyte',\n",
    "    labels_path='C:\\\\Users\\\\pas-valkov\\\\texno\\\\algo\\\\train-labels.idx1-ubyte')"
   ]
  },
  {
   "cell_type": "code",
   "execution_count": 16,
   "metadata": {},
   "outputs": [],
   "source": [
    "X_train, X_test, y_train, y_test = train_test_split(X, y,\n",
    "                                                    test_size=0.01, stratify=y)"
   ]
  },
  {
   "cell_type": "code",
   "execution_count": 17,
   "metadata": {
    "collapsed": true
   },
   "outputs": [],
   "source": [
    "clf = KNeighborsClassifier(n_neighbors=2, algorithm='brute')\n",
    "my_clf = MyKNeighborsClassifier(n_neighbors=2, algorithm='brute')"
   ]
  },
  {
   "cell_type": "code",
   "execution_count": 18,
   "metadata": {},
   "outputs": [
    {
     "name": "stdout",
     "output_type": "stream",
     "text": [
      "Wall time: 5 ms\n"
     ]
    },
    {
     "data": {
      "text/plain": [
       "KNeighborsClassifier(algorithm='brute', leaf_size=30, metric='minkowski',\n",
       "           metric_params=None, n_jobs=None, n_neighbors=2, p=2,\n",
       "           weights='uniform')"
      ]
     },
     "execution_count": 18,
     "metadata": {},
     "output_type": "execute_result"
    }
   ],
   "source": [
    "%time clf.fit(X_train, y_train)"
   ]
  },
  {
   "cell_type": "code",
   "execution_count": 19,
   "metadata": {},
   "outputs": [
    {
     "name": "stdout",
     "output_type": "stream",
     "text": [
      "Wall time: 0 ns\n"
     ]
    },
    {
     "data": {
      "text/plain": [
       "MyKNeighborsClassifier(algorithm='brute', n_neighbors=2)"
      ]
     },
     "execution_count": 19,
     "metadata": {},
     "output_type": "execute_result"
    }
   ],
   "source": [
    "%time my_clf.fit(X_train, y_train)"
   ]
  },
  {
   "cell_type": "code",
   "execution_count": 20,
   "metadata": {},
   "outputs": [
    {
     "name": "stdout",
     "output_type": "stream",
     "text": [
      "Wall time: 2.9 s\n"
     ]
    },
    {
     "data": {
      "text/plain": [
       "array([2, 3, 3, 2, 8, 7, 1, 7, 3, 9, 1, 6, 6, 0, 9, 3, 4, 2, 1, 7, 8, 3,\n",
       "       5, 9, 6, 5, 5, 2, 4, 1, 1, 7, 5, 6, 3, 6, 7, 3, 2, 5, 1, 2, 1, 4,\n",
       "       0, 1, 5, 9, 7, 4, 8, 4, 5, 8, 1, 5, 4, 4, 2, 0, 5, 7, 5, 7, 1, 9,\n",
       "       8, 6, 1, 0, 2, 9, 2, 7, 8, 6, 5, 4, 7, 4, 4, 4, 4, 7, 4, 1, 6, 6,\n",
       "       5, 7, 0, 8, 6, 4, 2, 5, 1, 0, 8, 1, 4, 7, 9, 6, 3, 2, 3, 9, 0, 8,\n",
       "       7, 7, 6, 2, 2, 1, 7, 0, 8, 8, 3, 5, 5, 8, 1, 3, 6, 5, 1, 8, 6, 3,\n",
       "       9, 4, 7, 1, 0, 7, 2, 6, 3, 3, 7, 8, 3, 4, 2, 2, 0, 0, 3, 1, 9, 0,\n",
       "       3, 6, 9, 9, 8, 9, 1, 8, 4, 8, 6, 2, 6, 0, 4, 6, 4, 2, 5, 3, 3, 0,\n",
       "       8, 7, 0, 9, 4, 6, 6, 6, 2, 5, 2, 7, 9, 9, 1, 9, 6, 9, 6, 1, 2, 4,\n",
       "       5, 8, 3, 9, 3, 1, 6, 0, 3, 9, 8, 5, 7, 2, 6, 6, 2, 8, 4, 3, 7, 1,\n",
       "       1, 9, 1, 0, 1, 0, 2, 2, 6, 7, 8, 5, 6, 4, 4, 6, 4, 7, 0, 2, 1, 1,\n",
       "       6, 9, 0, 5, 0, 1, 6, 9, 8, 4, 6, 6, 0, 2, 0, 7, 8, 2, 3, 0, 7, 1,\n",
       "       0, 4, 5, 3, 7, 0, 7, 5, 7, 3, 0, 0, 1, 3, 2, 1, 9, 8, 2, 5, 7, 6,\n",
       "       5, 7, 2, 4, 3, 3, 2, 2, 3, 0, 4, 3, 1, 9, 5, 6, 3, 7, 5, 4, 0, 9,\n",
       "       0, 5, 6, 4, 9, 8, 5, 3, 9, 0, 7, 7, 0, 2, 1, 1, 6, 3, 4, 5, 2, 8,\n",
       "       3, 6, 6, 8, 1, 1, 8, 3, 1, 5, 3, 6, 2, 7, 2, 5, 1, 1, 7, 9, 0, 1,\n",
       "       2, 7, 6, 8, 9, 9, 3, 2, 1, 2, 6, 1, 1, 8, 7, 9, 0, 1, 5, 3, 0, 8,\n",
       "       8, 8, 6, 2, 0, 7, 2, 3, 9, 4, 5, 3, 1, 3, 1, 0, 4, 0, 2, 6, 6, 4,\n",
       "       7, 5, 8, 1, 1, 0, 6, 3, 9, 7, 0, 4, 4, 4, 0, 9, 4, 0, 4, 5, 6, 9,\n",
       "       1, 8, 6, 6, 8, 9, 5, 9, 8, 5, 1, 2, 4, 4, 0, 9, 4, 4, 2, 8, 0, 9,\n",
       "       0, 6, 7, 4, 0, 1, 4, 4, 1, 8, 1, 1, 4, 1, 1, 3, 2, 7, 8, 0, 3, 1,\n",
       "       7, 7, 6, 4, 0, 3, 5, 2, 9, 4, 3, 7, 3, 1, 6, 3, 8, 7, 5, 3, 8, 4,\n",
       "       3, 9, 4, 0, 9, 2, 2, 5, 1, 1, 5, 0, 3, 4, 8, 7, 5, 9, 9, 7, 2, 3,\n",
       "       5, 2, 5, 3, 3, 8, 1, 2, 7, 1, 2, 3, 7, 6, 3, 8, 6, 9, 4, 3, 0, 1,\n",
       "       4, 2, 3, 5, 5, 1, 2, 4, 5, 7, 8, 0, 3, 4, 9, 2, 6, 1, 1, 5, 4, 7,\n",
       "       1, 6, 4, 1, 5, 9, 3, 1, 3, 0, 2, 7, 2, 9, 9, 5, 5, 7, 2, 0, 7, 0,\n",
       "       8, 7, 0, 5, 5, 9, 7, 6, 2, 9, 9, 2, 4, 9, 1, 9, 0, 8, 3, 1, 6, 3,\n",
       "       5, 7, 0, 8, 9, 0], dtype=uint8)"
      ]
     },
     "execution_count": 20,
     "metadata": {},
     "output_type": "execute_result"
    }
   ],
   "source": [
    "%time clf.predict(X_test)"
   ]
  },
  {
   "cell_type": "code",
   "execution_count": 21,
   "metadata": {},
   "outputs": [
    {
     "name": "stdout",
     "output_type": "stream",
     "text": [
      "Wall time: 3.08 s\n"
     ]
    },
    {
     "data": {
      "text/plain": [
       "array([2, 3, 3, 2, 8, 7, 1, 7, 3, 9, 1, 6, 6, 0, 9, 3, 4, 2, 1, 7, 8, 3,\n",
       "       5, 9, 6, 5, 5, 2, 4, 1, 1, 7, 5, 6, 3, 6, 7, 3, 2, 5, 1, 2, 1, 4,\n",
       "       0, 1, 5, 9, 7, 4, 8, 4, 5, 8, 1, 5, 4, 4, 2, 0, 5, 7, 5, 7, 1, 9,\n",
       "       8, 6, 1, 0, 2, 9, 2, 7, 8, 6, 5, 4, 7, 4, 4, 4, 4, 7, 4, 1, 6, 6,\n",
       "       5, 7, 0, 8, 6, 4, 2, 5, 1, 0, 8, 1, 4, 7, 9, 6, 3, 2, 3, 9, 0, 8,\n",
       "       7, 7, 6, 2, 2, 1, 7, 0, 8, 8, 3, 5, 5, 8, 1, 3, 6, 5, 1, 8, 6, 3,\n",
       "       9, 4, 7, 1, 0, 7, 2, 6, 3, 3, 7, 8, 3, 4, 2, 2, 0, 0, 3, 1, 9, 0,\n",
       "       3, 6, 9, 9, 8, 9, 1, 8, 4, 8, 6, 2, 6, 0, 4, 6, 4, 2, 5, 3, 3, 0,\n",
       "       8, 7, 0, 9, 4, 6, 6, 6, 2, 5, 2, 7, 9, 9, 1, 9, 6, 9, 6, 1, 2, 4,\n",
       "       5, 8, 3, 9, 3, 1, 6, 0, 3, 9, 8, 5, 7, 2, 6, 6, 2, 8, 4, 3, 7, 1,\n",
       "       1, 9, 1, 0, 1, 0, 2, 2, 6, 7, 8, 5, 6, 4, 4, 6, 4, 7, 0, 2, 1, 1,\n",
       "       6, 9, 0, 5, 0, 1, 6, 9, 8, 4, 6, 6, 0, 2, 0, 7, 8, 2, 3, 0, 7, 1,\n",
       "       0, 4, 5, 3, 7, 0, 7, 5, 7, 3, 0, 0, 1, 3, 2, 1, 9, 8, 2, 5, 7, 6,\n",
       "       5, 7, 2, 4, 3, 3, 2, 2, 3, 0, 4, 3, 1, 9, 5, 6, 3, 7, 5, 4, 0, 9,\n",
       "       0, 5, 6, 4, 9, 8, 5, 3, 9, 0, 7, 7, 0, 2, 1, 1, 6, 3, 4, 5, 2, 8,\n",
       "       3, 6, 6, 8, 1, 1, 8, 3, 1, 5, 3, 6, 2, 7, 2, 5, 1, 1, 7, 9, 0, 1,\n",
       "       2, 7, 6, 8, 9, 9, 3, 2, 1, 2, 6, 1, 1, 8, 7, 9, 0, 1, 5, 3, 0, 8,\n",
       "       8, 8, 6, 2, 0, 7, 2, 3, 9, 4, 5, 3, 1, 3, 1, 0, 4, 0, 2, 6, 6, 4,\n",
       "       7, 5, 8, 1, 1, 0, 6, 3, 9, 7, 0, 4, 4, 4, 0, 9, 4, 0, 4, 5, 6, 9,\n",
       "       1, 8, 6, 6, 8, 9, 5, 9, 8, 5, 1, 2, 4, 4, 0, 9, 4, 4, 2, 8, 0, 9,\n",
       "       0, 6, 7, 4, 0, 1, 4, 4, 1, 8, 1, 1, 4, 1, 1, 3, 2, 7, 8, 0, 3, 1,\n",
       "       7, 7, 6, 4, 0, 3, 5, 2, 9, 4, 3, 7, 3, 1, 6, 3, 8, 7, 5, 3, 8, 4,\n",
       "       3, 9, 4, 0, 9, 2, 2, 5, 1, 1, 5, 0, 3, 4, 8, 7, 5, 9, 9, 7, 2, 3,\n",
       "       5, 2, 5, 3, 3, 8, 1, 2, 7, 1, 2, 3, 7, 6, 3, 8, 6, 9, 4, 3, 0, 1,\n",
       "       4, 2, 3, 5, 5, 1, 2, 4, 5, 7, 8, 0, 3, 4, 9, 2, 6, 1, 1, 5, 4, 7,\n",
       "       1, 6, 4, 1, 5, 9, 3, 1, 3, 0, 2, 7, 2, 9, 9, 5, 5, 7, 2, 0, 7, 0,\n",
       "       8, 7, 0, 5, 5, 9, 7, 6, 2, 9, 9, 2, 4, 9, 1, 9, 0, 8, 3, 1, 6, 3,\n",
       "       5, 7, 0, 8, 9, 0], dtype=uint8)"
      ]
     },
     "execution_count": 21,
     "metadata": {},
     "output_type": "execute_result"
    }
   ],
   "source": [
    "%time my_clf.predict(X_test)"
   ]
  },
  {
   "cell_type": "code",
   "execution_count": 22,
   "metadata": {},
   "outputs": [
    {
     "name": "stdout",
     "output_type": "stream",
     "text": [
      "Wall time: 2.62 s\n"
     ]
    },
    {
     "data": {
      "text/plain": [
       "array([[0. , 0. , 1. , ..., 0. , 0. , 0. ],\n",
       "       [0. , 0. , 0. , ..., 0. , 0. , 0. ],\n",
       "       [0. , 0. , 0. , ..., 0. , 0.5, 0. ],\n",
       "       ...,\n",
       "       [0. , 0. , 0. , ..., 0. , 1. , 0. ],\n",
       "       [0. , 0. , 0. , ..., 0. , 0. , 1. ],\n",
       "       [1. , 0. , 0. , ..., 0. , 0. , 0. ]])"
      ]
     },
     "execution_count": 22,
     "metadata": {},
     "output_type": "execute_result"
    }
   ],
   "source": [
    "%time clf.predict_proba(X_test)"
   ]
  },
  {
   "cell_type": "code",
   "execution_count": 23,
   "metadata": {},
   "outputs": [
    {
     "name": "stdout",
     "output_type": "stream",
     "text": [
      "Wall time: 2.72 s\n"
     ]
    },
    {
     "data": {
      "text/plain": [
       "array([[0. , 0. , 1. , ..., 0. , 0. , 0. ],\n",
       "       [0. , 0. , 0. , ..., 0. , 0. , 0. ],\n",
       "       [0. , 0. , 0. , ..., 0. , 0.5, 0. ],\n",
       "       ...,\n",
       "       [0. , 0. , 0. , ..., 0. , 1. , 0. ],\n",
       "       [0. , 0. , 0. , ..., 0. , 0. , 1. ],\n",
       "       [1. , 0. , 0. , ..., 0. , 0. , 0. ]])"
      ]
     },
     "execution_count": 23,
     "metadata": {},
     "output_type": "execute_result"
    }
   ],
   "source": [
    "%time my_clf.predict_proba(X_test)"
   ]
  },
  {
   "cell_type": "code",
   "execution_count": 24,
   "metadata": {},
   "outputs": [
    {
     "data": {
      "text/plain": [
       "0.9616666666666667"
      ]
     },
     "execution_count": 24,
     "metadata": {},
     "output_type": "execute_result"
    }
   ],
   "source": [
    "clf.score(X_test, y_test)"
   ]
  },
  {
   "cell_type": "code",
   "execution_count": 25,
   "metadata": {},
   "outputs": [
    {
     "data": {
      "text/plain": [
       "0.9616666666666667"
      ]
     },
     "execution_count": 25,
     "metadata": {},
     "output_type": "execute_result"
    }
   ],
   "source": [
    "my_clf.score(X_test, y_test)"
   ]
  },
  {
   "cell_type": "markdown",
   "metadata": {},
   "source": [
    "Задание 4"
   ]
  },
  {
   "cell_type": "code",
   "execution_count": 26,
   "metadata": {
    "collapsed": true
   },
   "outputs": [],
   "source": [
    "clf = KNeighborsClassifier(n_neighbors=2, algorithm='kd_tree')\n",
    "my_clf = MyKNeighborsClassifier(n_neighbors=2, algorithm='kd_tree')"
   ]
  },
  {
   "cell_type": "code",
   "execution_count": 27,
   "metadata": {
    "collapsed": true
   },
   "outputs": [],
   "source": [
    "X_train, X_test, y_train, y_test = train_test_split(X, y,\n",
    "                                                    test_size=0.01, stratify=y)"
   ]
  },
  {
   "cell_type": "code",
   "execution_count": 28,
   "metadata": {},
   "outputs": [
    {
     "name": "stdout",
     "output_type": "stream",
     "text": [
      "Wall time: 37.9 s\n"
     ]
    },
    {
     "data": {
      "text/plain": [
       "KNeighborsClassifier(algorithm='kd_tree', leaf_size=30, metric='minkowski',\n",
       "           metric_params=None, n_jobs=None, n_neighbors=2, p=2,\n",
       "           weights='uniform')"
      ]
     },
     "execution_count": 28,
     "metadata": {},
     "output_type": "execute_result"
    }
   ],
   "source": [
    "%time clf.fit(X_train, y_train)"
   ]
  },
  {
   "cell_type": "code",
   "execution_count": 29,
   "metadata": {},
   "outputs": [
    {
     "name": "stdout",
     "output_type": "stream",
     "text": [
      "Wall time: 39.2 s\n"
     ]
    },
    {
     "data": {
      "text/plain": [
       "MyKNeighborsClassifier(algorithm='kd_tree', n_neighbors=2)"
      ]
     },
     "execution_count": 29,
     "metadata": {},
     "output_type": "execute_result"
    }
   ],
   "source": [
    "%time my_clf.fit(X_train, y_train)"
   ]
  },
  {
   "cell_type": "code",
   "execution_count": 30,
   "metadata": {},
   "outputs": [
    {
     "name": "stdout",
     "output_type": "stream",
     "text": [
      "Wall time: 42.1 s\n"
     ]
    },
    {
     "data": {
      "text/plain": [
       "array([5, 3, 9, 8, 4, 2, 7, 8, 6, 2, 4, 6, 4, 6, 8, 8, 8, 5, 1, 7, 2, 2,\n",
       "       5, 5, 9, 6, 1, 8, 5, 6, 9, 8, 2, 3, 1, 6, 1, 7, 8, 8, 6, 9, 9, 2,\n",
       "       1, 0, 2, 5, 6, 0, 4, 6, 1, 8, 1, 9, 2, 7, 1, 4, 5, 4, 7, 5, 0, 4,\n",
       "       4, 4, 0, 3, 2, 6, 2, 8, 9, 1, 9, 3, 8, 3, 7, 7, 6, 8, 2, 0, 4, 9,\n",
       "       3, 4, 6, 3, 3, 6, 8, 5, 7, 3, 1, 6, 1, 5, 1, 6, 3, 6, 2, 4, 8, 5,\n",
       "       9, 2, 0, 4, 7, 9, 6, 2, 5, 3, 6, 6, 6, 7, 1, 8, 4, 4, 3, 2, 8, 8,\n",
       "       9, 8, 3, 3, 1, 7, 8, 6, 7, 8, 7, 5, 6, 8, 4, 7, 7, 0, 7, 0, 2, 6,\n",
       "       7, 7, 1, 0, 5, 3, 7, 5, 4, 1, 4, 9, 4, 1, 3, 3, 2, 6, 6, 1, 0, 6,\n",
       "       8, 4, 8, 4, 8, 5, 7, 9, 0, 6, 1, 7, 3, 5, 4, 3, 0, 4, 6, 7, 3, 2,\n",
       "       6, 2, 3, 7, 1, 0, 2, 6, 5, 7, 0, 8, 5, 9, 9, 9, 7, 3, 7, 9, 3, 6,\n",
       "       4, 8, 6, 1, 6, 7, 8, 0, 8, 7, 3, 6, 7, 2, 3, 1, 9, 6, 8, 4, 1, 9,\n",
       "       4, 9, 5, 4, 8, 4, 7, 0, 4, 9, 7, 7, 3, 0, 5, 4, 0, 1, 4, 1, 5, 3,\n",
       "       6, 5, 0, 7, 0, 0, 1, 8, 6, 0, 5, 3, 3, 5, 8, 2, 0, 4, 1, 6, 7, 0,\n",
       "       0, 1, 6, 2, 7, 5, 6, 9, 3, 2, 8, 8, 5, 1, 7, 3, 0, 2, 1, 5, 9, 2,\n",
       "       8, 1, 3, 5, 4, 6, 8, 6, 1, 3, 1, 2, 8, 3, 0, 7, 1, 8, 3, 9, 8, 7,\n",
       "       6, 3, 6, 1, 2, 2, 0, 2, 5, 4, 1, 0, 9, 5, 5, 0, 3, 5, 9, 8, 6, 1,\n",
       "       4, 1, 8, 0, 7, 8, 0, 1, 7, 3, 1, 8, 0, 1, 2, 2, 1, 1, 2, 0, 7, 7,\n",
       "       8, 1, 2, 2, 3, 2, 5, 2, 5, 8, 2, 2, 4, 1, 7, 9, 4, 1, 6, 3, 3, 5,\n",
       "       9, 3, 1, 5, 3, 6, 2, 5, 0, 3, 3, 1, 1, 3, 5, 0, 7, 0, 0, 4, 5, 5,\n",
       "       4, 9, 8, 2, 1, 1, 5, 7, 1, 4, 5, 9, 3, 4, 0, 4, 0, 1, 1, 0, 0, 2,\n",
       "       2, 0, 4, 2, 2, 2, 3, 2, 2, 8, 1, 3, 2, 7, 7, 2, 9, 4, 7, 1, 3, 2,\n",
       "       3, 5, 1, 5, 5, 3, 3, 5, 9, 6, 7, 8, 4, 9, 9, 2, 3, 9, 0, 2, 4, 7,\n",
       "       6, 2, 1, 5, 2, 3, 9, 5, 1, 4, 0, 7, 6, 0, 0, 7, 3, 7, 6, 5, 9, 9,\n",
       "       8, 4, 2, 9, 8, 3, 7, 4, 7, 7, 6, 9, 8, 2, 9, 8, 1, 5, 8, 6, 5, 9,\n",
       "       8, 7, 9, 1, 9, 0, 5, 1, 9, 2, 0, 0, 9, 6, 1, 2, 0, 0, 3, 9, 1, 0,\n",
       "       8, 4, 7, 5, 0, 9, 4, 4, 8, 7, 9, 9, 7, 0, 1, 1, 7, 0, 1, 7, 3, 3,\n",
       "       8, 2, 0, 0, 4, 4, 1, 3, 5, 7, 6, 4, 9, 4, 0, 8, 4, 5, 9, 7, 4, 6,\n",
       "       8, 0, 1, 6, 9, 9], dtype=uint8)"
      ]
     },
     "execution_count": 30,
     "metadata": {},
     "output_type": "execute_result"
    }
   ],
   "source": [
    "%time clf.predict(X_test)"
   ]
  },
  {
   "cell_type": "code",
   "execution_count": 31,
   "metadata": {},
   "outputs": [
    {
     "name": "stdout",
     "output_type": "stream",
     "text": [
      "Wall time: 41.9 s\n"
     ]
    },
    {
     "data": {
      "text/plain": [
       "array([5, 3, 9, 8, 4, 2, 7, 8, 6, 2, 4, 6, 4, 6, 8, 8, 8, 5, 1, 7, 2, 2,\n",
       "       5, 5, 9, 6, 1, 8, 5, 6, 9, 8, 2, 3, 1, 6, 1, 7, 8, 8, 6, 9, 9, 2,\n",
       "       1, 0, 2, 5, 6, 0, 4, 6, 1, 8, 1, 9, 2, 7, 1, 4, 5, 4, 7, 5, 0, 4,\n",
       "       4, 4, 0, 3, 2, 6, 2, 8, 9, 1, 9, 3, 8, 3, 7, 7, 6, 8, 2, 0, 4, 9,\n",
       "       3, 4, 6, 3, 3, 6, 8, 5, 7, 3, 1, 6, 1, 5, 1, 6, 3, 6, 2, 4, 8, 5,\n",
       "       9, 2, 0, 4, 7, 9, 6, 2, 5, 3, 6, 6, 6, 7, 1, 8, 4, 4, 3, 2, 8, 8,\n",
       "       9, 8, 3, 3, 1, 7, 8, 6, 7, 8, 7, 5, 6, 8, 4, 7, 7, 0, 7, 0, 2, 6,\n",
       "       7, 7, 1, 0, 5, 3, 7, 5, 4, 1, 4, 9, 4, 1, 3, 3, 2, 6, 6, 1, 0, 6,\n",
       "       8, 4, 8, 4, 8, 5, 7, 9, 0, 6, 1, 7, 3, 5, 4, 3, 0, 4, 6, 7, 3, 2,\n",
       "       6, 2, 3, 7, 1, 0, 2, 6, 5, 7, 0, 8, 5, 9, 9, 9, 7, 3, 7, 9, 3, 6,\n",
       "       4, 8, 6, 1, 6, 7, 8, 0, 8, 7, 3, 6, 7, 2, 3, 1, 9, 6, 8, 4, 1, 9,\n",
       "       4, 9, 5, 4, 8, 4, 7, 0, 4, 9, 7, 7, 3, 0, 5, 4, 0, 1, 4, 1, 5, 3,\n",
       "       6, 5, 0, 7, 0, 0, 1, 8, 6, 0, 5, 3, 3, 5, 8, 2, 0, 4, 1, 6, 7, 0,\n",
       "       0, 1, 6, 2, 7, 5, 6, 9, 3, 2, 8, 8, 5, 1, 7, 3, 0, 2, 1, 5, 9, 2,\n",
       "       8, 1, 3, 5, 4, 6, 8, 6, 1, 3, 1, 2, 8, 3, 0, 7, 1, 8, 3, 9, 8, 7,\n",
       "       6, 3, 6, 1, 2, 2, 0, 2, 5, 4, 1, 0, 9, 5, 5, 0, 3, 5, 9, 8, 6, 1,\n",
       "       4, 1, 8, 0, 7, 8, 0, 1, 7, 3, 1, 8, 0, 1, 2, 2, 1, 1, 2, 0, 7, 7,\n",
       "       8, 1, 2, 2, 3, 2, 5, 2, 5, 8, 2, 2, 4, 1, 7, 9, 4, 1, 6, 3, 3, 5,\n",
       "       9, 3, 1, 5, 3, 6, 2, 5, 0, 3, 3, 1, 1, 3, 5, 0, 7, 0, 0, 4, 5, 5,\n",
       "       4, 9, 8, 2, 1, 1, 5, 7, 1, 4, 5, 9, 3, 4, 0, 4, 0, 1, 1, 0, 0, 2,\n",
       "       2, 0, 4, 2, 2, 2, 3, 2, 2, 8, 1, 3, 2, 7, 7, 2, 9, 4, 7, 1, 3, 2,\n",
       "       3, 5, 1, 5, 5, 3, 3, 5, 9, 6, 7, 8, 4, 9, 9, 2, 3, 9, 0, 2, 4, 7,\n",
       "       6, 2, 1, 5, 2, 3, 9, 5, 1, 4, 0, 7, 6, 0, 0, 7, 3, 7, 6, 5, 9, 9,\n",
       "       8, 4, 2, 9, 8, 3, 7, 4, 7, 7, 6, 9, 8, 2, 9, 8, 1, 5, 8, 6, 5, 9,\n",
       "       8, 7, 9, 1, 9, 0, 5, 1, 9, 2, 0, 0, 9, 6, 1, 2, 0, 0, 3, 9, 1, 0,\n",
       "       8, 4, 7, 5, 0, 9, 4, 4, 8, 7, 9, 9, 7, 0, 1, 1, 7, 0, 1, 7, 3, 3,\n",
       "       8, 2, 0, 0, 4, 4, 1, 3, 5, 7, 6, 4, 9, 4, 0, 8, 4, 5, 9, 7, 4, 6,\n",
       "       8, 0, 1, 6, 9, 9], dtype=uint8)"
      ]
     },
     "execution_count": 31,
     "metadata": {},
     "output_type": "execute_result"
    }
   ],
   "source": [
    "%time my_clf.predict(X_test)"
   ]
  },
  {
   "cell_type": "code",
   "execution_count": 32,
   "metadata": {},
   "outputs": [
    {
     "name": "stdout",
     "output_type": "stream",
     "text": [
      "Wall time: 44.5 s\n"
     ]
    },
    {
     "data": {
      "text/plain": [
       "array([[0., 0., 0., ..., 0., 0., 0.],\n",
       "       [0., 0., 0., ..., 0., 0., 0.],\n",
       "       [0., 0., 0., ..., 0., 0., 1.],\n",
       "       ...,\n",
       "       [0., 0., 0., ..., 0., 0., 0.],\n",
       "       [0., 0., 0., ..., 0., 0., 1.],\n",
       "       [0., 0., 0., ..., 0., 0., 1.]])"
      ]
     },
     "execution_count": 32,
     "metadata": {},
     "output_type": "execute_result"
    }
   ],
   "source": [
    "%time clf.predict_proba(X_test)"
   ]
  },
  {
   "cell_type": "code",
   "execution_count": 33,
   "metadata": {},
   "outputs": [
    {
     "name": "stdout",
     "output_type": "stream",
     "text": [
      "Wall time: 41.6 s\n"
     ]
    },
    {
     "data": {
      "text/plain": [
       "array([[0., 0., 0., ..., 0., 0., 0.],\n",
       "       [0., 0., 0., ..., 0., 0., 0.],\n",
       "       [0., 0., 0., ..., 0., 0., 1.],\n",
       "       ...,\n",
       "       [0., 0., 0., ..., 0., 0., 0.],\n",
       "       [0., 0., 0., ..., 0., 0., 1.],\n",
       "       [0., 0., 0., ..., 0., 0., 1.]])"
      ]
     },
     "execution_count": 33,
     "metadata": {},
     "output_type": "execute_result"
    }
   ],
   "source": [
    "%time my_clf.predict_proba(X_test)"
   ]
  },
  {
   "cell_type": "code",
   "execution_count": 34,
   "metadata": {},
   "outputs": [
    {
     "data": {
      "text/plain": [
       "0.965"
      ]
     },
     "execution_count": 34,
     "metadata": {},
     "output_type": "execute_result"
    }
   ],
   "source": [
    "clf.score(X_test, y_test)"
   ]
  },
  {
   "cell_type": "code",
   "execution_count": 35,
   "metadata": {},
   "outputs": [
    {
     "data": {
      "text/plain": [
       "0.965"
      ]
     },
     "execution_count": 35,
     "metadata": {},
     "output_type": "execute_result"
    }
   ],
   "source": [
    "my_clf.score(X_test, y_test)"
   ]
  },
  {
   "cell_type": "markdown",
   "metadata": {},
   "source": [
    "Задание 5"
   ]
  },
  {
   "cell_type": "code",
   "execution_count": 36,
   "metadata": {
    "collapsed": true
   },
   "outputs": [],
   "source": [
    "# seaborn - библиотека для визуализации данных на базе matplotlib\n",
    "# matplotlib - библиотека для визуализации данных\n",
    "# train_test_split - функция для разбиения данных на тестовую и трейновую \n",
    "# Pipelin%load_ext e (from sklearn.pipeline import Pipeline) - \n",
    "# директива для загрузки расширения для оболочкой питона\n",
    "\n",
    "# StandardScaler (from sklearn.preprocessing import StandardScaler) -\n",
    "# функция для нормализации данных на стандартное отклонение\n",
    "\n",
    "# ClassifierMixin - базовый класс для классификаторов\n",
    "# NeighborsBase - базовый класс для поиска k-ближайших соседей\n",
    "# KNeighborsMixin - базовый класс для поиска k-ближайших соседей\n",
    "# SupervisedIntegerMixin  - базовый класс для поиска k-ближайших соседей"
   ]
  }
 ],
 "metadata": {
  "kernelspec": {
   "display_name": "Python 3",
   "language": "python",
   "name": "python3"
  },
  "language_info": {
   "codemirror_mode": {
    "name": "ipython",
    "version": 3
   },
   "file_extension": ".py",
   "mimetype": "text/x-python",
   "name": "python",
   "nbconvert_exporter": "python",
   "pygments_lexer": "ipython3",
   "version": "3.7.2"
  }
 },
 "nbformat": 4,
 "nbformat_minor": 2
}
