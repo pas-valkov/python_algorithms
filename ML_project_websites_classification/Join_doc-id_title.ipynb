{
 "cells": [
  {
   "cell_type": "code",
   "execution_count": 1,
   "metadata": {},
   "outputs": [],
   "source": [
    "import numpy as np\n",
    "import pandas as pd"
   ]
  },
  {
   "cell_type": "code",
   "execution_count": null,
   "metadata": {},
   "outputs": [],
   "source": [
    "data = pd.read_csv('titles_and_lemmatized_titles_with_nltk_and_maru.csv', encoding='utf-8')\n",
    "data.fillna('', inplace=True)\n",
    "data = data.set_index('doc_id')\n",
    "\n",
    "data = data.drop(['Unnamed: 0'], axis=1)\n",
    "    \n",
    "data.head()"
   ]
  },
  {
   "cell_type": "code",
   "execution_count": null,
   "metadata": {},
   "outputs": [],
   "source": [
    "train_data = pd.read_csv('train_groups.csv', encoding='utf-8')\n",
    "test_data = pd.read_csv('test_groups.csv', encoding='utf-8')\n",
    "\n",
    "train_data = train_data.join(data, how='left', on='doc_id').set_index('doc_id')\n",
    "test_data = test_data.join(data, how='left', on='doc_id').set_index('doc_id')\n",
    "\n",
    "test_data.head()"
   ]
  },
  {
   "cell_type": "code",
   "execution_count": null,
   "metadata": {},
   "outputs": [],
   "source": [
    "with open('titles_and_lemmatized_titles_with_nltk_and_maru_train.csv', mode='w', encoding='utf-8') as f_csv:\n",
    "    train_data.to_csv(f_csv)"
   ]
  },
  {
   "cell_type": "code",
   "execution_count": null,
   "metadata": {},
   "outputs": [],
   "source": [
    "with open('titles_and_lemmatized_titles_with_nltk_and_maru_test.csv', mode='w', encoding='utf-8') as f_csv:\n",
    "    test_data.to_csv(f_csv)"
   ]
  }
 ],
 "metadata": {
  "kernelspec": {
   "display_name": "Python 3",
   "language": "python",
   "name": "python3"
  },
  "language_info": {
   "codemirror_mode": {
    "name": "ipython",
    "version": 3
   },
   "file_extension": ".py",
   "mimetype": "text/x-python",
   "name": "python",
   "nbconvert_exporter": "python",
   "pygments_lexer": "ipython3",
   "version": "3.7.1"
  }
 },
 "nbformat": 4,
 "nbformat_minor": 2
}
