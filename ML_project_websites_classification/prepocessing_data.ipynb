{
 "cells": [
  {
   "cell_type": "code",
   "execution_count": 13,
   "metadata": {
    "collapsed": true
   },
   "outputs": [],
   "source": [
    "import pandas as pd\n",
    "import numpy as np\n",
    "import matplotlib.pyplot as plt\n",
    "import os\n",
    "\n",
    "%matplotlib inline\n",
    "\n",
    "plt.style.use('ggplot')\n",
    "plt.rcParams['figure.figsize'] = (12,5)"
   ]
  },
  {
   "cell_type": "code",
   "execution_count": 14,
   "metadata": {
    "collapsed": true
   },
   "outputs": [],
   "source": [
    "import nltk\n",
    "from nltk.corpus import brown\n",
    "import pymorphy2\n",
    "\n",
    "#nltk.download('stopwords')\n",
    "stop_words = nltk.corpus.stopwords.words('russian')\n",
    "stemmer = nltk.stem.SnowballStemmer('russian')\n",
    "morph = pymorphy2.MorphAnalyzer()"
   ]
  },
  {
   "cell_type": "code",
   "execution_count": 15,
   "metadata": {
    "collapsed": true
   },
   "outputs": [],
   "source": [
    "stop_words.append('')"
   ]
  },
  {
   "cell_type": "code",
   "execution_count": 16,
   "metadata": {
    "collapsed": true
   },
   "outputs": [],
   "source": [
    "def title_preprocessing(title, stop_words, preprocessing_type='stemming'):\n",
    "    title = stop_words_remove(title.strip().split(), stop_words, preprocessing_type)\n",
    "    return ' '.join(title)\n",
    "\n",
    "def stop_words_remove(title_words, stop_words, preprocessing_type='stemming'):\n",
    "    #new_title = str()\n",
    "    new_title = []\n",
    "    for i in title_words:\n",
    "        i = i.strip(' !?@#$^&*\"\\'()_«»<>-+={}[]/\\.,:;') #%\n",
    "        if i in stop_words:\n",
    "            pass\n",
    "        else:\n",
    "            if preprocessing_type == 'stemming':\n",
    "                i = title_stemming(i)\n",
    "            else:\n",
    "                i = title_lemming(i)\n",
    "            if len(i) == 1:   # 11879 - problem\n",
    "                pass\n",
    "            else:\n",
    "                new_title.append(i)\n",
    "    return new_title\n",
    "\n",
    "def title_stemming(title_words):\n",
    "    return stemmer.stem(title_words)\n",
    "\n",
    "def title_lemming(title):\n",
    "    return morph.parse(title)[0].normal_form"
   ]
  },
  {
   "cell_type": "code",
   "execution_count": 17,
   "metadata": {
    "collapsed": true
   },
   "outputs": [],
   "source": [
    "path = 'all_data'\n",
    "directory = os.getcwd() + \"\\\\\" + path\n",
    "filenames = next(os.walk(directory))[2]"
   ]
  },
  {
   "cell_type": "code",
   "execution_count": 94,
   "metadata": {
    "collapsed": true
   },
   "outputs": [],
   "source": [
    "for j in range(2, 3):\n",
    "\n",
    "    file_name = 'parsing_output_text_' + str(j*1000) + '.csv'\n",
    "    ALLL = pd.read_csv(directory + '\\\\' + file_name)\n",
    "\n",
    "    new_texts = []\n",
    "    for i in ALLL['text']:\n",
    "        new_texts.append(title_preprocessing(i, stop_words, preprocessing_type='lemming'))\n",
    "    \n",
    "    df = pd.DataFrame({'doc_id': (ALLL['doc_id']), 'text': new_texts}).set_index('doc_id')\n",
    "    df.to_csv(directory + '\\\\' + 'new' + str(j*1000) + '.csv')"
   ]
  },
  {
   "cell_type": "code",
   "execution_count": null,
   "metadata": {
    "collapsed": true
   },
   "outputs": [],
   "source": []
  }
 ],
 "metadata": {
  "anaconda-cloud": {},
  "kernelspec": {
   "display_name": "Python 3",
   "language": "python",
   "name": "python3"
  },
  "language_info": {
   "codemirror_mode": {
    "name": "ipython",
    "version": 3
   },
   "file_extension": ".py",
   "mimetype": "text/x-python",
   "name": "python",
   "nbconvert_exporter": "python",
   "pygments_lexer": "ipython3",
   "version": "3.7.2"
  },
  "nav_menu": {},
  "toc": {
   "colors": {
    "hover_highlight": "#DAA520",
    "navigate_num": "#000000",
    "navigate_text": "#333333",
    "running_highlight": "#FF0000",
    "selected_highlight": "#FFD700",
    "sidebar_border": "#EEEEEE",
    "wrapper_background": "#FFFFFF"
   },
   "moveMenuLeft": true,
   "nav_menu": {
    "height": "402px",
    "width": "253px"
   },
   "navigate_menu": true,
   "number_sections": false,
   "sideBar": true,
   "threshold": 4,
   "toc_cell": false,
   "toc_section_display": "block",
   "toc_window_display": true,
   "widenNotebook": false
  }
 },
 "nbformat": 4,
 "nbformat_minor": 2
}
