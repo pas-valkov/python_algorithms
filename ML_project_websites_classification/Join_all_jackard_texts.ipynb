{
 "cells": [
  {
   "cell_type": "code",
   "execution_count": 8,
   "metadata": {},
   "outputs": [],
   "source": [
    "import numpy as np\n",
    "import pandas as pd\n",
    "import time"
   ]
  },
  {
   "cell_type": "code",
   "execution_count": 9,
   "metadata": {},
   "outputs": [
    {
     "name": "stdout",
     "output_type": "stream",
     "text": [
      "129 groups are processed..."
     ]
    },
    {
     "data": {
      "text/plain": [
       "(11690, 4)"
      ]
     },
     "execution_count": 9,
     "metadata": {},
     "output_type": "execute_result"
    }
   ],
   "source": [
    "data_train = pd.read_csv(f'Parse_done/jackard_texts_train_raw_1.csv', encoding='utf-8')\n",
    "data_train.fillna('', inplace=True)\n",
    "data_train = data_train.drop(['Unnamed: 0'], axis=1)\n",
    "\n",
    "for group in range(2, 130):\n",
    "    data = pd.read_csv(f'Parse_done/jackard_texts_train_raw_{group}.csv', encoding='utf-8')\n",
    "    data.fillna('', inplace=True)\n",
    "    data = data.drop(['Unnamed: 0'], axis=1)\n",
    "    data_train = data_train.append(data)\n",
    "\n",
    "    print(f\"\\r{group} groups are processed...\", end='', flush=True)\n",
    "\n",
    "data_train.shape"
   ]
  },
  {
   "cell_type": "code",
   "execution_count": 10,
   "metadata": {},
   "outputs": [],
   "source": [
    "with open(f'Parse_done/jackard_texts_train_raw_ALL.csv', mode='w', encoding='utf-8') as f_csv:\n",
    "    data_train.to_csv(f_csv)"
   ]
  },
  {
   "cell_type": "code",
   "execution_count": 11,
   "metadata": {},
   "outputs": [
    {
     "name": "stdout",
     "output_type": "stream",
     "text": [
      "309 groups are processed..."
     ]
    },
    {
     "data": {
      "text/plain": [
       "(16627, 4)"
      ]
     },
     "execution_count": 11,
     "metadata": {},
     "output_type": "execute_result"
    }
   ],
   "source": [
    "data_test = pd.read_csv(f'Parse_done/jackard_texts_test_raw_130.csv', encoding='utf-8')\n",
    "data_test.fillna('', inplace=True)\n",
    "data_test = data_test.drop(['Unnamed: 0'], axis=1)\n",
    "\n",
    "for group in range(131, 310):\n",
    "    data = pd.read_csv(f'Parse_done/jackard_texts_test_raw_{group}.csv', encoding='utf-8')\n",
    "    data.fillna('', inplace=True)\n",
    "    data = data.drop(['Unnamed: 0'], axis=1)\n",
    "    data_test = data_test.append(data)\n",
    "\n",
    "    print(f\"\\r{group} groups are processed...\", end='', flush=True)\n",
    "\n",
    "data_test.shape"
   ]
  },
  {
   "cell_type": "code",
   "execution_count": 12,
   "metadata": {},
   "outputs": [],
   "source": [
    "with open(f'Parse_done/jackard_texts_test_raw_ALL.csv', mode='w', encoding='utf-8') as f_csv:\n",
    "    data_test.to_csv(f_csv)"
   ]
  },
  {
   "cell_type": "code",
   "execution_count": null,
   "metadata": {},
   "outputs": [],
   "source": []
  }
 ],
 "metadata": {
  "kernelspec": {
   "display_name": "Python 3",
   "language": "python",
   "name": "python3"
  },
  "language_info": {
   "codemirror_mode": {
    "name": "ipython",
    "version": 3
   },
   "file_extension": ".py",
   "mimetype": "text/x-python",
   "name": "python",
   "nbconvert_exporter": "python",
   "pygments_lexer": "ipython3",
   "version": "3.7.1"
  }
 },
 "nbformat": 4,
 "nbformat_minor": 2
}
