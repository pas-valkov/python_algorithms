{
 "cells": [
  {
   "cell_type": "code",
   "execution_count": 10,
   "metadata": {},
   "outputs": [],
   "source": [
    "import numpy as np\n",
    "import pandas as pd\n",
    "from scipy.spatial.distance import jaccard\n",
    "from sklearn.feature_extraction.text import CountVectorizer\n",
    "from sklearn import preprocessing\n",
    "import time"
   ]
  },
  {
   "cell_type": "code",
   "execution_count": 11,
   "metadata": {},
   "outputs": [],
   "source": [
    "def compute_jackard(feature):\n",
    "    idx = feature.shape[0]\n",
    "    dist_mean = np.ones((idx))\n",
    "    dist_median = np.ones((idx))\n",
    "    dist_min = np.ones((idx))\n",
    "    dist_max = np.ones((idx))\n",
    "    for i in range(idx):    \n",
    "        dist_mat = np.array([jaccard(feature[i], feature[j]) for j in range(idx) if j != i])\n",
    "        dist_mat[np.isnan(dist_mat)] = 1.0\n",
    "        dist_mean[i] = dist_mat.mean()\n",
    "        dist_median[i] = np.median(dist_mat)\n",
    "        dist_min[i] = dist_mat.min()\n",
    "        dist_max[i] = dist_mat.max()\n",
    "    return dist_mean, dist_median, dist_min, dist_max"
   ]
  },
  {
   "cell_type": "code",
   "execution_count": 19,
   "metadata": {},
   "outputs": [
    {
     "name": "stdout",
     "output_type": "stream",
     "text": [
      "40 groups are processed..."
     ]
    },
    {
     "name": "stderr",
     "output_type": "stream",
     "text": [
      "/Users/Alex_Reznikova/anaconda3/lib/python3.7/site-packages/scipy/spatial/distance.py:853: RuntimeWarning: invalid value encountered in double_scalars\n",
      "  dist = np.double(unequal_nonzero.sum()) / np.double(nonzero.sum())\n"
     ]
    },
    {
     "name": "stdout",
     "output_type": "stream",
     "text": [
      "129 groups are processed...CPU times: user 3h 24min 5s, sys: 14min 6s, total: 3h 38min 11s\n",
      "Wall time: 3h 41min 39s\n"
     ]
    }
   ],
   "source": [
    "%%time\n",
    "\n",
    "for group in range(1, 130):\n",
    "    print(f\"\\r{group} groups are processed...\", end='', flush=True)\n",
    "    train_data = pd.read_csv(f'TO_GROUPS_text/text_group_{group}.csv', encoding='utf-8')\n",
    "    train_data.fillna('', inplace=True)\n",
    "    t_gr = train_data.text\n",
    "    \n",
    "#     cv_word_2_2 = CountVectorizer(analyzer='word', ngram_range=(2,2))\n",
    "#     cv_word_2_2.fit(t_gr)\n",
    "#     feat_2 = cv_word_2_2.transform(t_gr).toarray()\n",
    "#     mean_2, med_2, min_2, max_2 = compute_jackard(feat_2)\n",
    "    \n",
    "    cv_char_3_4 = CountVectorizer(analyzer='char', ngram_range=(3,5))\n",
    "    cv_char_3_4.fit(t_gr)\n",
    "    feat_3 = cv_char_3_4.transform(t_gr).toarray()\n",
    "    mean_3, med_3, min_3, max_3 = compute_jackard(feat_3)\n",
    "\n",
    "    # feat_to_df = {'mean_word_2_2': mean_2, 'median_word_2_2': med_2,\n",
    "    #               'min_word_2_2': min_2, 'max_word_2_2': max_2}\n",
    "\n",
    "    feat_to_df = {'mean_char_3_4': mean_3, 'median_char_3_4': med_3,\n",
    "                  'min_char_3_4': min_3, 'max_char_3_4': max_3}\n",
    "    df_features = pd.DataFrame(feat_to_df)\n",
    "    \n",
    "    with open(f'Parse_done/jackard_texts_train_raw_{group}.csv', mode='w', encoding='utf-8') as f_csv:\n",
    "        df_features.to_csv(f_csv)"
   ]
  },
  {
   "cell_type": "code",
   "execution_count": 20,
   "metadata": {},
   "outputs": [
    {
     "name": "stdout",
     "output_type": "stream",
     "text": [
      "309 groups are processed...CPU times: user 4h 36min 34s, sys: 15min 12s, total: 4h 51min 46s\n",
      "Wall time: 4h 52min 10s\n"
     ]
    }
   ],
   "source": [
    "%%time\n",
    "\n",
    "for group in range(130, 310):\n",
    "    print(f\"\\r{group} groups are processed...\", end='', flush=True)\n",
    "    test_data = pd.read_csv(f'TO_GROUPS_text/text_group_{group}.csv', encoding='utf-8')\n",
    "    test_data.fillna('', inplace=True)\n",
    "    t_gr = test_data.text\n",
    "    \n",
    "#     cv_word_2_2 = CountVectorizer(analyzer='word', ngram_range=(2,2))\n",
    "#     cv_word_2_2.fit(t_gr)\n",
    "#     feat_2 = cv_word_2_2.transform(t_gr).toarray()\n",
    "#     mean_2, med_2, min_2, max_2 = compute_jackard(feat_2)\n",
    "    \n",
    "    cv_char_3_4 = CountVectorizer(analyzer='char', ngram_range=(3,5))\n",
    "    cv_char_3_4.fit(t_gr)\n",
    "    feat_3 = cv_char_3_4.transform(t_gr).toarray()\n",
    "    mean_3, med_3, min_3, max_3 = compute_jackard(feat_3)\n",
    "\n",
    "    # feat_to_df = {'mean_word_2_2': mean_2, 'median_word_2_2': med_2,\n",
    "    #               'min_word_2_2': min_2, 'max_word_2_2': max_2}\n",
    "\n",
    "    feat_to_df = {'mean_char_3_4': mean_3, 'median_char_3_4': med_3,\n",
    "                  'min_char_3_4': min_3, 'max_char_3_4': max_3}\n",
    "    df_features = pd.DataFrame(feat_to_df)\n",
    "    \n",
    "    with open(f'Parse_done/jackard_texts_test_raw_{group}.csv', mode='w', encoding='utf-8') as f_csv:\n",
    "        df_features.to_csv(f_csv)"
   ]
  },
  {
   "cell_type": "code",
   "execution_count": null,
   "metadata": {},
   "outputs": [],
   "source": []
  }
 ],
 "metadata": {
  "kernelspec": {
   "display_name": "Python 3",
   "language": "python",
   "name": "python3"
  },
  "language_info": {
   "codemirror_mode": {
    "name": "ipython",
    "version": 3
   },
   "file_extension": ".py",
   "mimetype": "text/x-python",
   "name": "python",
   "nbconvert_exporter": "python",
   "pygments_lexer": "ipython3",
   "version": "3.7.1"
  }
 },
 "nbformat": 4,
 "nbformat_minor": 2
}
